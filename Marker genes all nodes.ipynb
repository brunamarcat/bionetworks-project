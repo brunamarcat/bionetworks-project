{
 "cells": [
  {
   "cell_type": "code",
   "execution_count": 56,
   "id": "af63b82c",
   "metadata": {},
   "outputs": [],
   "source": [
    "import scanpy as sc\n",
    "import numpy as np\n",
    "import pandas as pd\n",
    "import anndata as ad"
   ]
  },
  {
   "cell_type": "code",
   "execution_count": 136,
   "id": "a2bac6cd",
   "metadata": {},
   "outputs": [],
   "source": [
    "from collections import defaultdict\n",
    "\n",
    "def find_repeated_strings_with_positions(arr):\n",
    "    # Dictionary to store each string and its positions\n",
    "    string_positions = defaultdict(list)\n",
    "    \n",
    "    # Iterate through the array with indices\n",
    "    for i, tup in enumerate(arr):\n",
    "        for j, string in enumerate(tup):\n",
    "            # Store position as (row_index, column_index)\n",
    "            string_positions[string].append((i, j))\n",
    "    \n",
    "    # Filter only strings that appear more than once\n",
    "    repeated_strings = {string: positions for string, positions in string_positions.items() \n",
    "                      if len(positions) > 1}\n",
    "    \n",
    "    return repeated_strings\n",
    "\n",
    "def assign_repeated(result):\n",
    "    repeated = find_repeated_strings_with_positions(result['names'])\n",
    "    assig = {}\n",
    "    for x in repeated.keys():\n",
    "        best = 1\n",
    "        best_cluster = None\n",
    "        for gene, cluster in repeated[x]:\n",
    "            if result[\"pvals_adj\"][gene][cluster]<best:\n",
    "                best = result[\"pvals_adj\"][gene][cluster]\n",
    "                best_cluster = cluster\n",
    "        assig[x] = best_cluster\n",
    "    return assig\n",
    "\n",
    "def entropy(cells, labels):\n",
    "    ent = 0\n",
    "    for cat in set(labels):\n",
    "        p = np.sum(np.array(labels)[cells]==cat)/len(cells)\n",
    "        if p != 0:\n",
    "            ent = ent + p*np.log2(p)\n",
    "    return -ent"
   ]
  },
  {
   "cell_type": "code",
   "execution_count": 99,
   "id": "41cdc616",
   "metadata": {},
   "outputs": [
    {
     "name": "stdout",
     "output_type": "stream",
     "text": [
      "Level: 1\n",
      "Node: B\n",
      "Node: J\n"
     ]
    },
    {
     "name": "stderr",
     "output_type": "stream",
     "text": [
      "c:\\Users\\bruna\\anaconda3\\Lib\\site-packages\\scanpy\\tools\\_rank_genes_groups.py:453: RuntimeWarning: overflow encountered in expm1\n",
      "  self.expm1_func(mean_rest) + 1e-9\n",
      "c:\\Users\\bruna\\anaconda3\\Lib\\site-packages\\scanpy\\tools\\_rank_genes_groups.py:452: RuntimeWarning: overflow encountered in expm1\n",
      "  foldchanges = (self.expm1_func(mean_group) + 1e-9) / (\n"
     ]
    },
    {
     "name": "stdout",
     "output_type": "stream",
     "text": [
      "Level: 2\n",
      "Node: C\n",
      "Node: I\n",
      "Node: 10\n",
      "Node: 11\n"
     ]
    },
    {
     "name": "stderr",
     "output_type": "stream",
     "text": [
      "c:\\Users\\bruna\\anaconda3\\Lib\\site-packages\\scanpy\\tools\\_rank_genes_groups.py:452: RuntimeWarning: overflow encountered in expm1\n",
      "  foldchanges = (self.expm1_func(mean_group) + 1e-9) / (\n"
     ]
    },
    {
     "name": "stdout",
     "output_type": "stream",
     "text": [
      "Level: 3\n",
      "Node: D\n",
      "Node: 7\n",
      "Node: 8\n",
      "Node: 9\n",
      "Node: 10\n",
      "Node: 11\n"
     ]
    },
    {
     "name": "stderr",
     "output_type": "stream",
     "text": [
      "c:\\Users\\bruna\\anaconda3\\Lib\\site-packages\\scanpy\\tools\\_rank_genes_groups.py:452: RuntimeWarning: overflow encountered in expm1\n",
      "  foldchanges = (self.expm1_func(mean_group) + 1e-9) / (\n"
     ]
    },
    {
     "name": "stdout",
     "output_type": "stream",
     "text": [
      "Level: 4\n",
      "Node: E\n",
      "Node: 6\n",
      "Node: 7\n",
      "Node: 8\n",
      "Node: 9\n",
      "Node: 10\n",
      "Node: 11\n"
     ]
    },
    {
     "name": "stderr",
     "output_type": "stream",
     "text": [
      "c:\\Users\\bruna\\anaconda3\\Lib\\site-packages\\scanpy\\tools\\_rank_genes_groups.py:452: RuntimeWarning: overflow encountered in expm1\n",
      "  foldchanges = (self.expm1_func(mean_group) + 1e-9) / (\n"
     ]
    },
    {
     "name": "stdout",
     "output_type": "stream",
     "text": [
      "Level: 5\n",
      "Node: F\n",
      "Node: 5\n",
      "Node: 6\n",
      "Node: 7\n",
      "Node: 8\n",
      "Node: 9\n",
      "Node: 10\n",
      "Node: 11\n"
     ]
    },
    {
     "name": "stderr",
     "output_type": "stream",
     "text": [
      "c:\\Users\\bruna\\anaconda3\\Lib\\site-packages\\scanpy\\tools\\_rank_genes_groups.py:452: RuntimeWarning: overflow encountered in expm1\n",
      "  foldchanges = (self.expm1_func(mean_group) + 1e-9) / (\n"
     ]
    },
    {
     "name": "stdout",
     "output_type": "stream",
     "text": [
      "gen skipped\n",
      "gen skipped\n",
      "gen skipped\n",
      "gen skipped\n",
      "gen skipped\n",
      "Level: 6\n",
      "Node: G\n",
      "Node: 4\n",
      "Node: 5\n",
      "Node: 6\n",
      "Node: 7\n",
      "Node: 8\n",
      "Node: 9\n",
      "Node: 10\n",
      "Node: 11\n"
     ]
    },
    {
     "name": "stderr",
     "output_type": "stream",
     "text": [
      "c:\\Users\\bruna\\anaconda3\\Lib\\site-packages\\scanpy\\tools\\_rank_genes_groups.py:452: RuntimeWarning: overflow encountered in expm1\n",
      "  foldchanges = (self.expm1_func(mean_group) + 1e-9) / (\n"
     ]
    },
    {
     "name": "stdout",
     "output_type": "stream",
     "text": [
      "gen skipped\n",
      "gen skipped\n",
      "gen skipped\n",
      "gen skipped\n",
      "gen skipped\n",
      "gen skipped\n",
      "gen skipped\n",
      "gen skipped\n",
      "gen skipped\n",
      "gen skipped\n",
      "gen skipped\n",
      "gen skipped\n",
      "gen skipped\n",
      "gen skipped\n",
      "gen skipped\n",
      "Level: 7\n",
      "Node: H\n",
      "Node: 3\n",
      "Node: 4\n",
      "Node: 5\n",
      "Node: 6\n",
      "Node: 7\n",
      "Node: 8\n",
      "Node: 9\n",
      "Node: 10\n",
      "Node: 11\n"
     ]
    },
    {
     "name": "stderr",
     "output_type": "stream",
     "text": [
      "c:\\Users\\bruna\\anaconda3\\Lib\\site-packages\\scanpy\\tools\\_rank_genes_groups.py:452: RuntimeWarning: overflow encountered in expm1\n",
      "  foldchanges = (self.expm1_func(mean_group) + 1e-9) / (\n"
     ]
    },
    {
     "name": "stdout",
     "output_type": "stream",
     "text": [
      "gen skipped\n",
      "gen skipped\n",
      "gen skipped\n",
      "gen skipped\n",
      "gen skipped\n",
      "gen skipped\n",
      "gen skipped\n",
      "gen skipped\n",
      "gen skipped\n",
      "gen skipped\n",
      "gen skipped\n",
      "gen skipped\n",
      "gen skipped\n",
      "gen skipped\n",
      "gen skipped\n",
      "gen skipped\n",
      "gen skipped\n",
      "gen skipped\n",
      "gen skipped\n",
      "gen skipped\n",
      "gen skipped\n",
      "Level: 8\n",
      "Node: 1\n",
      "Node: 2\n",
      "Node: 3\n",
      "Node: 4\n",
      "Node: 5\n",
      "Node: 6\n",
      "Node: 7\n",
      "Node: 8\n",
      "Node: 9\n",
      "Node: 10\n",
      "Node: 11\n",
      "gen skipped\n",
      "gen skipped\n",
      "gen skipped\n",
      "gen skipped\n",
      "gen skipped\n",
      "gen skipped\n",
      "gen skipped\n",
      "gen skipped\n",
      "gen skipped\n",
      "gen skipped\n",
      "gen skipped\n",
      "gen skipped\n",
      "gen skipped\n",
      "gen skipped\n",
      "gen skipped\n",
      "gen skipped\n",
      "gen skipped\n",
      "gen skipped\n",
      "gen skipped\n",
      "gen skipped\n",
      "gen skipped\n"
     ]
    },
    {
     "name": "stderr",
     "output_type": "stream",
     "text": [
      "c:\\Users\\bruna\\anaconda3\\Lib\\site-packages\\scanpy\\tools\\_rank_genes_groups.py:452: RuntimeWarning: overflow encountered in expm1\n",
      "  foldchanges = (self.expm1_func(mean_group) + 1e-9) / (\n"
     ]
    }
   ],
   "source": [
    "# amb el txt file\n",
    "\n",
    "import json\n",
    "from Tree import Node\n",
    "import numpy as np\n",
    "import scanpy as sc\n",
    "import pickle\n",
    "import pandas as pd\n",
    "\n",
    "adata = sc.datasets.ebi_expression_atlas(\"E-MTAB-10553\")\n",
    "\n",
    "with open('tree.json', 'r') as f:\n",
    "    data_tree = json.load(f)\n",
    "\n",
    "tree = Node()\n",
    "tree.from_json(data_tree)\n",
    "\n",
    "for level in range(1, tree.get_tree_depth() + 1):\n",
    "    print('Level:', level)\n",
    "    colors = np.zeros(len(tree.cells)) - 1\n",
    "    c = 0\n",
    "    color_dict = {}\n",
    "    for node in tree.get_nodes_at_level(level + 1):\n",
    "        colors[node.cells] = str(c)\n",
    "        color_dict[c] = node.type\n",
    "        c = c + 1\n",
    "        print('Node:', node.type)\n",
    "\n",
    "    # Adding our new cluster labels to the annotated data\n",
    "    adata.obs[\"Class_own\"] = pd.Categorical(colors)\n",
    "\n",
    "    # Differential expression analysis with the new annotation\n",
    "    sc.tl.rank_genes_groups(adata, groupby='Class_own', method='wilcoxon',n_genes=15)\n",
    "\n",
    "    # Access the results of differential expression analysis\n",
    "    result = adata.uns['rank_genes_groups']\n",
    "    \n",
    "    assig = assign_repeated(result)\n",
    "\n",
    "    fname = f\"level_{level}.txt\"\n",
    "    with open(fname, \"w\") as f:\n",
    "        for cluster_id in set(colors):\n",
    "            if cluster_id == -1:  # Skip unassigned cells\n",
    "                continue\n",
    "            cluster_id_int = int(cluster_id)\n",
    "            marker_genes = result['names'][str(cluster_id)]\n",
    "            cluster_name = color_dict[cluster_id_int]\n",
    "            genename = f\"level_{level}_cluster_{cluster_name}\"\n",
    "            fname_cluster = genename+\".txt\"\n",
    "\n",
    "            with open (fname_cluster,\"w\") as fn:\n",
    "                for i,gene in enumerate(marker_genes):\n",
    "                    if gene in assig:\n",
    "                        if assig[gene] != cluster_id_int:\n",
    "                            continue\n",
    "\n",
    "                    if result[\"pvals_adj\"][str(cluster_id)][i]<0.05:\n",
    "                        fn.write(gene + \"\\t\" + \"Cluster_\"+str(cluster_name)+'\\n')\n",
    "                    else:\n",
    "                        print(\"gen skipped\")\n",
    "\n",
    "            for i,gene in enumerate(marker_genes):\n",
    "                if gene in assig:\n",
    "                    if assig[gene] != cluster_id_int:\n",
    "                        continue\n",
    "                if result[\"pvals_adj\"][str(cluster_id)][i]<0.05:\n",
    "                    f.write(gene + \"\\t\" + genename+'\\n')"
   ]
  },
  {
   "cell_type": "code",
   "execution_count": 142,
   "id": "0aef6956",
   "metadata": {},
   "outputs": [
    {
     "name": "stdout",
     "output_type": "stream",
     "text": [
      "Entropy in root:  2.5802443836778566\n",
      "Entropy in Level  1 : 2.3820339822259635\n",
      "Entropy in Level  2 : 1.9902626896234517\n",
      "Entropy in Level  3 : 1.684762757097317\n",
      "Entropy in Level  4 : 1.682715194101604\n",
      "Entropy in Level  5 : 1.681254837266141\n",
      "Entropy in Level  6 : 1.6792301915984382\n",
      "Entropy in Level  7 : 1.6790138642135992\n",
      "Entropy in Level  8 : 1.676803069259985\n"
     ]
    },
    {
     "data": {
      "text/plain": [
       "Text(0.5, 0, 'Level')"
      ]
     },
     "execution_count": 142,
     "metadata": {},
     "output_type": "execute_result"
    },
    {
     "data": {
      "image/png": "[encoded data removed]",
      "text/plain": [
       "<Figure size 640x480 with 1 Axes>"
      ]
     },
     "metadata": {},
     "output_type": "display_data"
    }
   ],
   "source": [
    "import json\n",
    "from Tree import Node\n",
    "import numpy as np\n",
    "import scanpy as sc\n",
    "import pickle\n",
    "import pandas as pd\n",
    "import math\n",
    "import matplotlib.pyplot as plt\n",
    "\n",
    "adata = sc.datasets.ebi_expression_atlas(\"E-MTAB-10553\")\n",
    "labels = sc.get.obs_df(adata, keys=\"Factor Value[inferred cell type - authors labels]\")\n",
    "labels = ['nan' if not isinstance(x[0],str) and math.isnan(x[0]) else x[0] for x in labels.values]\n",
    "\n",
    "with open('tree.json', 'r') as f:\n",
    "    data_tree = json.load(f)\n",
    "\n",
    "tree = Node()\n",
    "tree.from_json(data_tree)\n",
    "\n",
    "plot = []\n",
    "initial_entropy = entropy(list(range(len(labels))), labels)\n",
    "plot.append(initial_entropy)\n",
    "print(\"Entropy in root: \",initial_entropy)\n",
    "\n",
    "for level in range(1, tree.get_tree_depth() + 1):\n",
    "    colors = np.zeros(len(tree.cells)) - 1\n",
    "    c = 0\n",
    "    color_dict = {}\n",
    "    total_entropy = 0\n",
    "    for node in tree.get_nodes_at_level(level + 1):\n",
    "        colors[node.cells] = str(c)\n",
    "        color_dict[c] = node.type\n",
    "        c = c + 1\n",
    "        total_entropy = total_entropy + entropy(node.cells, labels)*len(node.cells)/len(labels)\n",
    "    plot.append(total_entropy)\n",
    "    print('Entropy in Level ', level, \":\",total_entropy)\n",
    "\n",
    "plt.plot(plot)\n",
    "plt.title(\"Entropy in tree levels\")\n",
    "plt.ylabel(\"Entropy\")\n",
    "plt.xlabel(\"Level\")"
   ]
  }
 ],
 "metadata": {
  "kernelspec": {
   "display_name": "base",
   "language": "python",
   "name": "python3"
  },
  "language_info": {
   "codemirror_mode": {
    "name": "ipython",
    "version": 3
   },
   "file_extension": ".py",
   "mimetype": "text/x-python",
   "name": "python",
   "nbconvert_exporter": "python",
   "pygments_lexer": "ipython3",
   "version": "3.12.7"
  }
 },
 "nbformat": 4,
 "nbformat_minor": 5
}
